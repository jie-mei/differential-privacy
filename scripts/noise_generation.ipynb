{
 "cells": [
  {
   "cell_type": "markdown",
   "metadata": {},
   "source": [
    "# Noise Generation"
   ]
  },
  {
   "cell_type": "code",
   "execution_count": 11,
   "metadata": {},
   "outputs": [],
   "source": [
    "from ast import literal_eval\n",
    "import collections\n",
    "import os\n",
    "import re\n",
    "\n",
    "import pandas as pd\n",
    "import numpy as np"
   ]
  },
  {
   "cell_type": "code",
   "execution_count": 12,
   "metadata": {},
   "outputs": [],
   "source": [
    "PROJECT_ROOT = '..'\n",
    "BUILD_PATH = os.path.join(PROJECT_ROOT, 'build')\n",
    "TRAJ_FILE = os.path.join(BUILD_PATH, 'selected.Jan.csv')"
   ]
  },
  {
   "cell_type": "markdown",
   "metadata": {},
   "source": [
    "### Hyperparameters"
   ]
  },
  {
   "cell_type": "code",
   "execution_count": 13,
   "metadata": {},
   "outputs": [],
   "source": [
    "theta = 0.25"
   ]
  },
  {
   "cell_type": "markdown",
   "metadata": {},
   "source": [
    "## Compute Risk"
   ]
  },
  {
   "cell_type": "markdown",
   "metadata": {},
   "source": [
    "### Construct ITDs"
   ]
  },
  {
   "cell_type": "code",
   "execution_count": 14,
   "metadata": {},
   "outputs": [],
   "source": [
    "class Trajectory(tuple):\n",
    "    \"\"\" Movement trajectory (Def. 1). Different from the definition,\n",
    "    we do not record time in trjectory, which should not affect the\n",
    "    computation. \"\"\"\n",
    "    def __init__(self, locations):\n",
    "        self.locations = tuple(locations)\n",
    "        \n",
    "    def __hash__(self):\n",
    "       return hash(self.locations)\n",
    "    \n",
    "    def __repr__(self):\n",
    "        return '<Trajectory {}>'.format(str(self.locations))\n",
    "    \n",
    "class ITDBuilder(object):\n",
    "    \"\"\" The builder class for ITD. \"\"\"\n",
    "    def __init__(self, uid):\n",
    "        self.uid = uid\n",
    "        self.trajs = collections.Counter()\n",
    "        \n",
    "    def add(self, trajectory):\n",
    "        self.trajs[trajectory] += 1\n",
    "        \n",
    "class ITD(object):\n",
    "    \"\"\" Individual trajectory database (Def. 2, 3, 4, 5). \"\"\"\n",
    "    def __init__(self, builder, traj_freq):\n",
    "        self.uid = builder.uid\n",
    "        self.traj2idx = {}\n",
    "        self.idx2traj = {}\n",
    "        self.freq = []\n",
    "        self.risk = []\n",
    "        for idx, (traj, cnt) in enumerate(builder.trajs.items()):\n",
    "            self.idx2traj[idx] = traj\n",
    "            self.traj2idx[traj] = idx\n",
    "            self.freq += cnt,                    # Def. 3\n",
    "            self.risk += cnt / traj_freq[traj],  # Def. 5, Eq. 2\n",
    "        self.privacy_risk = sum(self.risk)       # Def. 4, Eq. 1\n",
    "        \n",
    "    def riskest(self):\n",
    "        # Note that if there is multiple traj. with the maximum risk,\n",
    "        # this methed select the one that fisrt appears.\n",
    "        idx, _ = max(enumerate(self.risk), key=lambda x: x[1])\n",
    "        return self.idx2traj[idx]\n",
    "        \n",
    "    def __repr__(self):\n",
    "        return '<ITD uid:{}>'.format(self.uid)"
   ]
  },
  {
   "cell_type": "code",
   "execution_count": 15,
   "metadata": {},
   "outputs": [],
   "source": [
    "# Load data\n",
    "df = pd.read_csv(open(TRAJ_FILE, 'r'),\n",
    "                 header=0,\n",
    "                 names=['uid', 'date', 'traj_site', 'traj_arr'],\n",
    "                 parse_dates=['date'])\n",
    "df['traj_site'] = df['traj_site'].apply(lambda x: literal_eval(x))\n",
    "df['traj_arr'] = df['traj_arr'].apply(lambda x: literal_eval(x))\n",
    "\n",
    "traj_freq = collections.Counter()\n",
    "itd_bdlrs = {}\n",
    "for _, (uid, date, sites, areas) in df.iterrows():\n",
    "    # Costruct trajectory using area codes.\n",
    "    traj = Trajectory(areas)\n",
    "    if uid not in itd_bdlrs:\n",
    "        itd_bdlrs[uid] = ITDBuilder(uid)\n",
    "    itd_bdlrs[uid].add(traj)\n",
    "    traj_freq[traj] += 1\n",
    "    \n",
    "# A mapping from user ID to the crossponding ITD\n",
    "ITDS = {bdlr.uid: ITD(bdlr, traj_freq) for bdlr in itd_bdlrs.values()}"
   ]
  },
  {
   "cell_type": "markdown",
   "metadata": {},
   "source": [
    "#### Print Examples (Optional)"
   ]
  },
  {
   "cell_type": "code",
   "execution_count": 16,
   "metadata": {},
   "outputs": [
    {
     "name": "stdout",
     "output_type": "stream",
     "text": [
      "{0: <Trajectory (70, 73)>, 1: <Trajectory (6, 7, 3)>, 2: <Trajectory (3,)>, 3: <Trajectory (9, 7)>, 4: <Trajectory (9, 4)>, 5: <Trajectory (4, 3, 6, 10, 19, 11, 20, 19)>, 6: <Trajectory (70,)>}\n",
      "[1, 1, 1, 2, 1, 1, 5]\n",
      "[1.0, 0.5, 0.00078003120124805, 0.25, 0.5, 1.0, 0.5]\n",
      "3.750780031201248\n",
      "<Trajectory (70, 73)>\n"
     ]
    }
   ],
   "source": [
    "print(ITDS[6].idx2traj)\n",
    "print(ITDS[6].freq)\n",
    "print(ITDS[6].risk)\n",
    "print(ITDS[6].privacy_risk)\n",
    "print(ITDS[6].riskest())"
   ]
  },
  {
   "cell_type": "markdown",
   "metadata": {},
   "source": [
    "### Find ITD Relations"
   ]
  },
  {
   "cell_type": "code",
   "execution_count": 17,
   "metadata": {},
   "outputs": [],
   "source": [
    "# Map the riskest traj. to their according ITDs\n",
    "riskest2uid = collections.defaultdict(list)\n",
    "for uid, itd in ITDS.items():\n",
    "    riskest2uid[itd.riskest()] += uid,\n",
    "    \n",
    "# Map traj. to their containing ITDs\n",
    "traj2uid = collections.defaultdict(list)\n",
    "for uid, itd in ITDS.items():\n",
    "    for traj in itd.traj2idx:\n",
    "        traj2uid[traj] += uid,\n",
    "\n",
    "RELATION = collections.defaultdict(lambda: [[], []])\n",
    "for uid in ITDS:\n",
    "    riskest = ITDS[uid].riskest()\n",
    "    # find string relations\n",
    "    RELATION[uid][0].extend(riskest2uid[riskest]) \n",
    "    # find weak relations\n",
    "    for uid_ in traj2uid[riskest]:\n",
    "        if uid_ != uid:\n",
    "            RELATION[uid_][1] += uid,"
   ]
  },
  {
   "cell_type": "markdown",
   "metadata": {},
   "source": [
    "#### Print Examples (Optional)"
   ]
  },
  {
   "cell_type": "code",
   "execution_count": 18,
   "metadata": {},
   "outputs": [
    {
     "name": "stdout",
     "output_type": "stream",
     "text": [
      "Reations with user 6\n",
      "strong: [6]\n",
      "weak:   [105, 182, 188, 487, 587, 681, 698, 741, 1052, 1370, 1585, 1795, 1971, 1972, 2025, 2219, 2278, 2393, 2449, 2583, 2592, 2709]\n"
     ]
    }
   ],
   "source": [
    "print('Reations with user 6')\n",
    "print('strong:', RELATION[6][0])\n",
    "print('weak:  ', RELATION[6][1])"
   ]
  }
 ],
 "metadata": {
  "kernelspec": {
   "display_name": "Python 3",
   "language": "python",
   "name": "python3"
  },
  "language_info": {
   "codemirror_mode": {
    "name": "ipython",
    "version": 3
   },
   "file_extension": ".py",
   "mimetype": "text/x-python",
   "name": "python",
   "nbconvert_exporter": "python",
   "pygments_lexer": "ipython3",
   "version": "3.6.4"
  },
  "toc": {
   "colors": {
    "hover_highlight": "#DAA520",
    "navigate_num": "#000000",
    "navigate_text": "#333333",
    "running_highlight": "#FF0000",
    "selected_highlight": "#FFD700",
    "sidebar_border": "#EEEEEE",
    "wrapper_background": "#FFFFFF"
   },
   "moveMenuLeft": true,
   "navigate_menu": false,
   "number_sections": true,
   "sideBar": true,
   "skip_h1_title": true,
   "threshold": 4,
   "toc_cell": false,
   "toc_position": {
    "height": "950px",
    "left": "0px",
    "right": "1152.01px",
    "top": "51.0078px",
    "width": "448px"
   },
   "toc_section_display": "block",
   "toc_window_display": true,
   "widenNotebook": false
  }
 },
 "nbformat": 4,
 "nbformat_minor": 2
}
